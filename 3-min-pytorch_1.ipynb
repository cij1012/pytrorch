{
  "nbformat": 4,
  "nbformat_minor": 0,
  "metadata": {
    "colab": {
      "name": "Untitled24.ipynb",
      "provenance": [],
      "authorship_tag": "ABX9TyPhWIek1MYEdz3dcUQxGyH6",
      "include_colab_link": true
    },
    "kernelspec": {
      "name": "python3",
      "display_name": "Python 3"
    }
  },
  "cells": [
    {
      "cell_type": "markdown",
      "metadata": {
        "id": "view-in-github",
        "colab_type": "text"
      },
      "source": [
        "<a href=\"https://colab.research.google.com/github/cij1012/pytorch/blob/cij1012-pytorch1/3-min-pytorch_1.ipynb\" target=\"_parent\"><img src=\"https://colab.research.google.com/assets/colab-badge.svg\" alt=\"Open In Colab\"/></a>"
      ]
    },
    {
      "cell_type": "code",
      "metadata": {
        "id": "6EoiYD4eZ8N4"
      },
      "source": [
        "import torch"
      ],
      "execution_count": 1,
      "outputs": []
    },
    {
      "cell_type": "code",
      "metadata": {
        "id": "SwtsWnkNbBVV"
      },
      "source": [
        "import torch.autograd"
      ],
      "execution_count": 2,
      "outputs": []
    },
    {
      "cell_type": "code",
      "metadata": {
        "id": "58HQsvakbFTE"
      },
      "source": [
        "import torch.nn"
      ],
      "execution_count": 3,
      "outputs": []
    },
    {
      "cell_type": "code",
      "metadata": {
        "id": "QAJ13_wobGKz"
      },
      "source": [
        "import torch.optim\r\n",
        "import torch.utils.data\r\n",
        "import torch.onnx"
      ],
      "execution_count": 4,
      "outputs": []
    },
    {
      "cell_type": "code",
      "metadata": {
        "colab": {
          "base_uri": "https://localhost:8080/"
        },
        "id": "QF3z2Q9obKPE",
        "outputId": "e9dd72d3-8c5a-48c2-8d74-4cd30d59c05e"
      },
      "source": [
        "x = torch.tensor([[1,2,3],[4,5,6],[7,8,9]])\r\n",
        "print(x)"
      ],
      "execution_count": 5,
      "outputs": [
        {
          "output_type": "stream",
          "text": [
            "tensor([[1, 2, 3],\n",
            "        [4, 5, 6],\n",
            "        [7, 8, 9]])\n"
          ],
          "name": "stdout"
        }
      ]
    },
    {
      "cell_type": "code",
      "metadata": {
        "colab": {
          "base_uri": "https://localhost:8080/"
        },
        "id": "1H8geP9ZbZjN",
        "outputId": "07a2adc9-0538-4aec-c097-7028b03f8184"
      },
      "source": [
        "print(x.size(), x.shape, x.ndimension())"
      ],
      "execution_count": 6,
      "outputs": [
        {
          "output_type": "stream",
          "text": [
            "torch.Size([3, 3]) torch.Size([3, 3]) 2\n"
          ],
          "name": "stdout"
        }
      ]
    },
    {
      "cell_type": "code",
      "metadata": {
        "colab": {
          "base_uri": "https://localhost:8080/"
        },
        "id": "as5b1aFwbnyT",
        "outputId": "d0bcb04f-8b46-4a1d-a906-f28b67909498"
      },
      "source": [
        "x = torch.unsqueeze(x, 0)\r\n",
        "print(x)"
      ],
      "execution_count": 7,
      "outputs": [
        {
          "output_type": "stream",
          "text": [
            "tensor([[[1, 2, 3],\n",
            "         [4, 5, 6],\n",
            "         [7, 8, 9]]])\n"
          ],
          "name": "stdout"
        }
      ]
    },
    {
      "cell_type": "code",
      "metadata": {
        "colab": {
          "base_uri": "https://localhost:8080/"
        },
        "id": "If41XkYwdKob",
        "outputId": "e8be61b2-6c88-4210-b964-9b9b3f1a8d7a"
      },
      "source": [
        "print(x.size(), x.shape, x.ndimension())"
      ],
      "execution_count": 8,
      "outputs": [
        {
          "output_type": "stream",
          "text": [
            "torch.Size([1, 3, 3]) torch.Size([1, 3, 3]) 3\n"
          ],
          "name": "stdout"
        }
      ]
    },
    {
      "cell_type": "code",
      "metadata": {
        "colab": {
          "base_uri": "https://localhost:8080/"
        },
        "id": "iPqGcA95dOnC",
        "outputId": "e48d2765-dc37-47cb-ab32-9c317c323691"
      },
      "source": [
        "x = x.view(9)\r\n",
        "print(x)\r\n",
        "print(x.size(), x.shape, x.ndimension())"
      ],
      "execution_count": 9,
      "outputs": [
        {
          "output_type": "stream",
          "text": [
            "tensor([1, 2, 3, 4, 5, 6, 7, 8, 9])\n",
            "torch.Size([9]) torch.Size([9]) 1\n"
          ],
          "name": "stdout"
        }
      ]
    },
    {
      "cell_type": "code",
      "metadata": {
        "colab": {
          "base_uri": "https://localhost:8080/"
        },
        "id": "xyzm5wo3dY3s",
        "outputId": "cf6894ab-a32b-487d-aa03-002994045f15"
      },
      "source": [
        "x = x.view(3,1,3)\r\n",
        "print(x)"
      ],
      "execution_count": 10,
      "outputs": [
        {
          "output_type": "stream",
          "text": [
            "tensor([[[1, 2, 3]],\n",
            "\n",
            "        [[4, 5, 6]],\n",
            "\n",
            "        [[7, 8, 9]]])\n"
          ],
          "name": "stdout"
        }
      ]
    },
    {
      "cell_type": "code",
      "metadata": {
        "colab": {
          "base_uri": "https://localhost:8080/"
        },
        "id": "o-jdCrsidhVz",
        "outputId": "7a123466-f0b2-4d24-c28b-c729464afe0e"
      },
      "source": [
        "w = torch.randn(5,3, dtype=torch.float)\r\n",
        "x = torch.tensor([[1.0,2.0],[3.0,4.0],[5.0,6.0]])\r\n",
        "print(w.size())\r\n",
        "print(x.size())\r\n",
        "print(w)\r\n",
        "print(x)"
      ],
      "execution_count": 11,
      "outputs": [
        {
          "output_type": "stream",
          "text": [
            "torch.Size([5, 3])\n",
            "torch.Size([3, 2])\n",
            "tensor([[-1.6661, -0.1910, -0.6272],\n",
            "        [ 0.0698,  0.1292,  0.1734],\n",
            "        [-0.5938,  0.0031, -0.4160],\n",
            "        [ 1.6206,  0.2199,  0.3856],\n",
            "        [-0.3858, -0.7290,  1.4936]])\n",
            "tensor([[1., 2.],\n",
            "        [3., 4.],\n",
            "        [5., 6.]])\n"
          ],
          "name": "stdout"
        }
      ]
    },
    {
      "cell_type": "code",
      "metadata": {
        "colab": {
          "base_uri": "https://localhost:8080/"
        },
        "id": "5tg73gyDd62i",
        "outputId": "123b45a0-1c88-4d2c-a6ae-981826f914ab"
      },
      "source": [
        "b = torch.randn(5,2, dtype=torch.float)\r\n",
        "print(b)"
      ],
      "execution_count": 12,
      "outputs": [
        {
          "output_type": "stream",
          "text": [
            "tensor([[-0.9104,  0.7402],\n",
            "        [ 0.2231,  0.4357],\n",
            "        [ 0.2852,  0.2131],\n",
            "        [ 1.4725, -0.6510],\n",
            "        [ 0.9430,  1.7382]])\n"
          ],
          "name": "stdout"
        }
      ]
    },
    {
      "cell_type": "code",
      "metadata": {
        "colab": {
          "base_uri": "https://localhost:8080/"
        },
        "id": "KMy4Ae6QeU1i",
        "outputId": "8e78038d-5a8e-41b9-cca0-9dd7ad87e0d3"
      },
      "source": [
        "# 행렬곱  (5,3) * (3,2) = (5,2)\r\n",
        "wx = torch.mm(w,x)\r\n",
        "print(wx)\r\n",
        "print(wx.size())"
      ],
      "execution_count": 13,
      "outputs": [
        {
          "output_type": "stream",
          "text": [
            "tensor([[-5.3754, -7.8598],\n",
            "        [ 1.3242,  1.6965],\n",
            "        [-2.6644, -3.6711],\n",
            "        [ 4.2083,  6.4344],\n",
            "        [ 4.8953,  5.2741]])\n",
            "torch.Size([5, 2])\n"
          ],
          "name": "stdout"
        }
      ]
    },
    {
      "cell_type": "code",
      "metadata": {
        "colab": {
          "base_uri": "https://localhost:8080/"
        },
        "id": "lHJoZpGvelTC",
        "outputId": "ae839bae-f064-4e5d-b3d0-35a72277314b"
      },
      "source": [
        "# 행렬간의 합\r\n",
        "result = wx + b\r\n",
        "print(result.size())\r\n",
        "print(result)"
      ],
      "execution_count": 14,
      "outputs": [
        {
          "output_type": "stream",
          "text": [
            "torch.Size([5, 2])\n",
            "tensor([[-6.2859, -7.1196],\n",
            "        [ 1.5473,  2.1322],\n",
            "        [-2.3792, -3.4580],\n",
            "        [ 5.6808,  5.7835],\n",
            "        [ 5.8383,  7.0124]])\n"
          ],
          "name": "stdout"
        }
      ]
    },
    {
      "cell_type": "code",
      "metadata": {
        "id": "GXTUSiiPext4"
      },
      "source": [
        "# Auto grad\r\n",
        "w = torch.tensor(1.0, requires_grad=True)"
      ],
      "execution_count": 15,
      "outputs": []
    },
    {
      "cell_type": "code",
      "metadata": {
        "id": "vZsrcIZQffg4"
      },
      "source": [
        "a = w*3"
      ],
      "execution_count": 16,
      "outputs": []
    },
    {
      "cell_type": "code",
      "metadata": {
        "id": "bYSglkRffhgu"
      },
      "source": [
        "l = a**2"
      ],
      "execution_count": 17,
      "outputs": []
    },
    {
      "cell_type": "code",
      "metadata": {
        "colab": {
          "base_uri": "https://localhost:8080/"
        },
        "id": "Nir4m27efkbD",
        "outputId": "8ea11058-4cfd-4ea8-95d4-77dcdfca28a8"
      },
      "source": [
        "l.backward()\r\n",
        "print('l을 w로 미분한 값은 {}'.format(w.grad))"
      ],
      "execution_count": 18,
      "outputs": [
        {
          "output_type": "stream",
          "text": [
            "l을 w로 미분한 값은 18.0\n"
          ],
          "name": "stdout"
        }
      ]
    },
    {
      "cell_type": "code",
      "metadata": {
        "id": "pVosu0g_lwZv"
      },
      "source": [
        "# 간단한 분류 모델\r\n",
        "import numpy as np\r\n",
        "from sklearn.datasets import make_blobs\r\n",
        "import matplotlib.pyplot as plt\r\n",
        "import torch.nn.functional as F"
      ],
      "execution_count": 21,
      "outputs": []
    },
    {
      "cell_type": "code",
      "metadata": {
        "id": "sIyTq5LY_4Qc"
      },
      "source": [
        "n_dim = 2\r\n",
        "x_train, y_train = make_blobs(n_samples=80, n_features=n_dim,\r\n",
        "                              centers=[[1,1],[-1,-1],[1,-1],[-1,1]],\r\n",
        "                              shuffle=True, cluster_std=0.3)\r\n",
        "x_test, y_test = make_blobs(n_samples=20, n_features=n_dim,\r\n",
        "                              centers=[[1,1],[-1,-1],[1,-1],[-1,1]],\r\n",
        "                              shuffle=True, cluster_std=0.3)"
      ],
      "execution_count": 20,
      "outputs": []
    },
    {
      "cell_type": "code",
      "metadata": {
        "id": "2eBU6kOcC19o"
      },
      "source": [
        ""
      ],
      "execution_count": null,
      "outputs": []
    },
    {
      "cell_type": "code",
      "metadata": {
        "id": "Ekr7LwPnAVKT"
      },
      "source": [
        "def label_map(y_, from_, to_):\r\n",
        "  y = np.copy(y_)\r\n",
        "  for f in from_:\r\n",
        "    y[y_==f] = to_\r\n",
        "  return y\r\n",
        "\r\n",
        "y_train = label_map(y_train, [0,1],0)\r\n",
        "y_train = label_map(y_train, [2,3],1)\r\n",
        "y_test = label_map(y_test, [0,1],0)\r\n",
        "y_test = label_map(y_test, [2,3],1)"
      ],
      "execution_count": 22,
      "outputs": []
    },
    {
      "cell_type": "code",
      "metadata": {
        "colab": {
          "base_uri": "https://localhost:8080/",
          "height": 264
        },
        "id": "VEpUU0qsBhjd",
        "outputId": "a18ba0db-8fb5-48b6-d3b8-a60ad1d5db8e"
      },
      "source": [
        "def vis_data(x,y = None, c = 'r'):\r\n",
        "  if y is None:\r\n",
        "    y = [None] * len(x)\r\n",
        "  for x_,y_ in zip(x,y):\r\n",
        "    if y_ is None:\r\n",
        "      plt.plot(x_[0], x_[1], '*', markerfacecolor='none', markerredgecolor=c)\r\n",
        "    else:\r\n",
        "      plt.plot(x_[0],x_[1], c+'o' if y_== 0 else c+'+')\r\n",
        "\r\n",
        "plt.figure()\r\n",
        "vis_data(x_train,y_train, c='r')\r\n",
        "plt.show()"
      ],
      "execution_count": 26,
      "outputs": [
        {
          "output_type": "display_data",
          "data": {
            "image/png": "[encoded data removed]",
            "text/plain": [
              "<Figure size 432x288 with 1 Axes>"
            ]
          },
          "metadata": {
            "tags": [],
            "needs_background": "light"
          }
        }
      ]
    },
    {
      "cell_type": "code",
      "metadata": {
        "id": "jS33CuaODM1m"
      },
      "source": [
        "x_train = torch.FloatTensor(x_train)\r\n",
        "x_test = torch.FloatTensor(x_test)\r\n",
        "y_train = torch.FloatTensor(y_train)\r\n",
        "y_test = torch.FloatTensor(y_test)"
      ],
      "execution_count": 27,
      "outputs": []
    },
    {
      "cell_type": "code",
      "metadata": {
        "id": "NO7l_dmeIhp8"
      },
      "source": [
        "class NeuralNet(torch.nn.Module):\r\n",
        "  def __init__(self, input_size, hidden_size):\r\n",
        "    super(NeuralNet, self).__init__()\r\n",
        "    self.input_size = input_size\r\n",
        "    self.hidden_size = hidden_size\r\n",
        "    self.linear_1 = torch.nn.Linear(self.input_size, self.hidden_size)\r\n",
        "    self.relu = torch.nn.ReLU()\r\n",
        "    self.linear_2 = torch.nn.Linear(self.hidden_size, 1)\r\n",
        "    self.sigmoid = torch.nn.Sigmoid()\r\n",
        "\r\n",
        "  def forward(self, input_tensor):\r\n",
        "    linear1 = self.linear_1(input_tensor)\r\n",
        "    relu = self.relu(linear1)\r\n",
        "    linear2 = self.linear_2(relu)\r\n",
        "    output = self.sigmoid(linear2)\r\n",
        "    return output    "
      ],
      "execution_count": 28,
      "outputs": []
    },
    {
      "cell_type": "code",
      "metadata": {
        "id": "iW2eT-4FJ2r1"
      },
      "source": [
        "model = NeuralNet(2,5)\r\n",
        "learning_rate = 0.03\r\n",
        "criterion = torch.nn.BCELoss()"
      ],
      "execution_count": 29,
      "outputs": []
    },
    {
      "cell_type": "code",
      "metadata": {
        "id": "2PTjxm_pJ9A5"
      },
      "source": [
        "epochs = 2000\r\n",
        "optimizer = torch.optim.SGD(model.parameters(), lr=learning_rate)"
      ],
      "execution_count": 30,
      "outputs": []
    },
    {
      "cell_type": "code",
      "metadata": {
        "colab": {
          "base_uri": "https://localhost:8080/"
        },
        "id": "nfV2rKHDKDFl",
        "outputId": "db234d9b-62de-4a1f-f1d3-46491a8c0399"
      },
      "source": [
        "model.eval()\r\n",
        "test_loss_before = criterion(model(x_test).squeeze(), y_test)\r\n",
        "print('Befor Training, test loss is {}'.format(test_loss_before.item()))"
      ],
      "execution_count": 31,
      "outputs": [
        {
          "output_type": "stream",
          "text": [
            "Befor Training, test loss is 0.7594480514526367\n"
          ],
          "name": "stdout"
        }
      ]
    },
    {
      "cell_type": "code",
      "metadata": {
        "colab": {
          "base_uri": "https://localhost:8080/"
        },
        "id": "ziaBjgkIKRxa",
        "outputId": "b9994e62-44e1-48bc-f9cd-aab5b9a1bfc3"
      },
      "source": [
        "for epoch in range(epochs+1):\r\n",
        "  model.train()\r\n",
        "  optimizer.zero_grad()\r\n",
        "  train_output = model(x_train)\r\n",
        "  train_loss = criterion(train_output.squeeze(), y_train)\r\n",
        "  if epoch % 100 ==0:\r\n",
        "    print('Train loss at {} is in {}'.format(epoch,train_loss.item()))\r\n",
        "  train_loss.backward() # 역전파 실행\r\n",
        "  optimizer.step()"
      ],
      "execution_count": 37,
      "outputs": [
        {
          "output_type": "stream",
          "text": [
            "Train loss at 0 is in 0.07864423096179962\n",
            "Train loss at 100 is in 0.07415580004453659\n",
            "Train loss at 200 is in 0.07013420760631561\n",
            "Train loss at 300 is in 0.06650946289300919\n",
            "Train loss at 400 is in 0.063228540122509\n",
            "Train loss at 500 is in 0.06024594232439995\n",
            "Train loss at 600 is in 0.05752098560333252\n",
            "Train loss at 700 is in 0.055021584033966064\n",
            "Train loss at 800 is in 0.05272042006254196\n",
            "Train loss at 900 is in 0.050595395267009735\n",
            "Train loss at 1000 is in 0.04862735792994499\n",
            "Train loss at 1100 is in 0.04679911956191063\n",
            "Train loss at 1200 is in 0.045096516609191895\n",
            "Train loss at 1300 is in 0.043506450951099396\n",
            "Train loss at 1400 is in 0.04201792925596237\n",
            "Train loss at 1500 is in 0.04062168672680855\n",
            "Train loss at 1600 is in 0.039308588951826096\n",
            "Train loss at 1700 is in 0.03807178512215614\n",
            "Train loss at 1800 is in 0.0369042232632637\n",
            "Train loss at 1900 is in 0.0358007438480854\n",
            "Train loss at 2000 is in 0.034756138920784\n"
          ],
          "name": "stdout"
        }
      ]
    },
    {
      "cell_type": "code",
      "metadata": {
        "colab": {
          "base_uri": "https://localhost:8080/"
        },
        "id": "b8pvfetqLI0b",
        "outputId": "50755b53-4270-4e0f-d663-c1bbddfc6853"
      },
      "source": [
        "model.eval()\r\n",
        "test_loss =  criterion(torch.squeeze(model(x_test)),y_test)\r\n",
        "print('After Training, test loss is {}'.format(test_loss.item()))"
      ],
      "execution_count": 38,
      "outputs": [
        {
          "output_type": "stream",
          "text": [
            "After Training, test loss is 0.030092433094978333\n"
          ],
          "name": "stdout"
        }
      ]
    },
    {
      "cell_type": "code",
      "metadata": {
        "id": "l7Ita4fNQeSv"
      },
      "source": [
        "torch.save(model.state_dict(), './model.pt')"
      ],
      "execution_count": 39,
      "outputs": []
    },
    {
      "cell_type": "code",
      "metadata": {
        "colab": {
          "base_uri": "https://localhost:8080/"
        },
        "id": "7rakzbhLRfw1",
        "outputId": "a3c9ffce-3186-4c11-8c27-4e27980bf236"
      },
      "source": [
        "print('state_dict format of the model : {}'.format(model.state_dict()))"
      ],
      "execution_count": 40,
      "outputs": [
        {
          "output_type": "stream",
          "text": [
            "state_dict format of the model : OrderedDict([('linear_1.weight', tensor([[-1.9520, -1.7710],\n",
            "        [-1.7756,  0.8715],\n",
            "        [ 1.0848, -2.4715],\n",
            "        [-1.8095,  0.8799],\n",
            "        [ 0.2126,  0.3199]])), ('linear_1.bias', tensor([-0.3090, -0.1464, -0.2238, -0.1394, -0.6623])), ('linear_2.weight', tensor([[-2.4848,  1.8106,  2.6342,  2.0011,  0.0242]])), ('linear_2.bias', tensor([-2.8830]))])\n"
          ],
          "name": "stdout"
        }
      ]
    },
    {
      "cell_type": "code",
      "metadata": {
        "colab": {
          "base_uri": "https://localhost:8080/"
        },
        "id": "jWUzbceDRpME",
        "outputId": "99edc0bb-705b-4e2c-d006-09d8a2769401"
      },
      "source": [
        "new_model = NeuralNet(2,5)\r\n",
        "new_model.load_state_dict(torch.load('./model.pt'))"
      ],
      "execution_count": 41,
      "outputs": [
        {
          "output_type": "execute_result",
          "data": {
            "text/plain": [
              "<All keys matched successfully>"
            ]
          },
          "metadata": {
            "tags": []
          },
          "execution_count": 41
        }
      ]
    },
    {
      "cell_type": "code",
      "metadata": {
        "colab": {
          "base_uri": "https://localhost:8080/"
        },
        "id": "tCtCbTzURyi8",
        "outputId": "2410e6ab-ca15-4d81-ee21-276616e073da"
      },
      "source": [
        "new_model.eval()\r\n",
        "print('vector [-1,1] {}'.format(new_model(torch.FloatTensor([-1,1])).item()))"
      ],
      "execution_count": 42,
      "outputs": [
        {
          "output_type": "stream",
          "text": [
            "vector [-1,1] 0.9988277554512024\n"
          ],
          "name": "stdout"
        }
      ]
    },
    {
      "cell_type": "code",
      "metadata": {
        "id": "_JyIO_w3SKDs"
      },
      "source": [
        ""
      ],
      "execution_count": null,
      "outputs": []
    }
  ]
}